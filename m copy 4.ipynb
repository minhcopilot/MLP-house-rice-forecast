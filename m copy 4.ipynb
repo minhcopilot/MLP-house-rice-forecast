{
 "cells": [
  {
   "cell_type": "code",
   "execution_count": 88,
   "metadata": {},
   "outputs": [],
   "source": [
    "import pandas as pd\n",
    "import numpy as np\n",
    "import tensorflow as tf\n",
    "from math import radians, cos, sin, asin, sqrt\n",
    "from tensorflow.keras import layers, models, callbacks\n",
    "from sklearn.model_selection import train_test_split\n",
    "from sklearn.preprocessing import StandardScaler\n",
    "from sklearn.ensemble import RandomForestRegressor\n",
    "import matplotlib.pyplot as plt"
   ]
  },
  {
   "cell_type": "code",
   "execution_count": 89,
   "metadata": {},
   "outputs": [
    {
     "name": "stderr",
     "output_type": "stream",
     "text": [
      "C:\\Users\\ADMIN\\AppData\\Local\\Temp\\ipykernel_18508\\3271525685.py:2: DtypeWarning: Columns (9) have mixed types. Specify dtype option on import or set low_memory=False.\n",
      "  train_data = pd.read_csv('data/X_train.csv')\n"
     ]
    }
   ],
   "source": [
    "# Load the data\n",
    "train_data = pd.read_csv('data/X_train.csv')\n",
    "Y_train = pd.read_csv('data/y_train.csv')\n",
    "test_data = pd.read_csv('data/X_test.csv')"
   ]
  },
  {
   "cell_type": "code",
   "execution_count": 90,
   "metadata": {},
   "outputs": [
    {
     "name": "stderr",
     "output_type": "stream",
     "text": [
      "C:\\Users\\ADMIN\\AppData\\Local\\Temp\\ipykernel_18508\\2172149830.py:26: FutureWarning: A value is trying to be set on a copy of a DataFrame or Series through chained assignment using an inplace method.\n",
      "The behavior will change in pandas 3.0. This inplace method will never work because the intermediate object on which we are setting values always behaves as a copy.\n",
      "\n",
      "For example, when doing 'df[col].method(value, inplace=True)', try using 'df.method({col: value}, inplace=True)' or df[col] = df[col].method(value) instead, to perform the operation inplace on the original object.\n",
      "\n",
      "\n",
      "  train_data['livingRoom'].replace({'#NAME?': 2}, inplace=True)\n",
      "C:\\Users\\ADMIN\\AppData\\Local\\Temp\\ipykernel_18508\\2172149830.py:27: FutureWarning: A value is trying to be set on a copy of a DataFrame or Series through chained assignment using an inplace method.\n",
      "The behavior will change in pandas 3.0. This inplace method will never work because the intermediate object on which we are setting values always behaves as a copy.\n",
      "\n",
      "For example, when doing 'df[col].method(value, inplace=True)', try using 'df.method({col: value}, inplace=True)' or df[col] = df[col].method(value) instead, to perform the operation inplace on the original object.\n",
      "\n",
      "\n",
      "  test_data['livingRoom'].replace({'#NAME?': 2}, inplace=True)\n"
     ]
    }
   ],
   "source": [
    "# Data cleaning functions\n",
    "def clean_construction_time_data(construction_time_series):\n",
    "    def process_construction_time(x):\n",
    "        try:\n",
    "            year = int(x)\n",
    "            if 1900 <= year <= 2024:  \n",
    "                return year\n",
    "            else:\n",
    "                return np.nan\n",
    "        except ValueError:\n",
    "            return np.nan\n",
    "    cleaned_series = construction_time_series.apply(process_construction_time)\n",
    "    mode_value = cleaned_series.mode().iloc[0]\n",
    "    cleaned_series = cleaned_series.fillna(mode_value)\n",
    "    return cleaned_series.astype(int)\n",
    "\n",
    "def distance(lat2, lon2, lat1=39.916668, lon1=116.383331): \n",
    "    lon1, lon2, lat1, lat2 = map(radians, [lon1, lon2, lat1, lat2])\n",
    "    dlon = lon2 - lon1  \n",
    "    dlat = lat2 - lat1 \n",
    "    a = sin(dlat/2)**2 + cos(lat1) * cos(lat2) * sin(dlon/2)**2\n",
    "    c = 2 * asin(sqrt(a))  \n",
    "    r = 6371\n",
    "    return c * r\n",
    "\n",
    "def clean_building_type_data(building_type_series):\n",
    "    def process_building_type(x):\n",
    "        if pd.isna(x):\n",
    "            return 'Unknown'\n",
    "        elif isinstance(x, (int, float)):\n",
    "            if x == 1 or x == 1.0:\n",
    "                return 'Tower'\n",
    "            elif x == 2 or x == 2.0:\n",
    "                return 'Bungalow'\n",
    "            elif x == 3 or x == 3.0:\n",
    "                return 'Tower and Plate'\n",
    "            elif x == 4 or x == 4.0:\n",
    "                return 'Plate'\n",
    "            elif 0 < x < 1:\n",
    "                return 'Plate'\n",
    "            else:\n",
    "                return 'Plate'\n",
    "        else:\n",
    "            return str(x)\n",
    "    return building_type_series.apply(process_building_type)\n",
    "\n",
    "def clean_floor_data(floor_series):\n",
    "    def process_floor(x):\n",
    "        x = str(x)\n",
    "        if x == '结构':\n",
    "            return 6  \n",
    "        else:\n",
    "            return x[-2:].strip()\n",
    "    cleaned_series = floor_series.apply(process_floor)\n",
    "    cleaned_series = pd.to_numeric(cleaned_series, errors='coerce')\n",
    "    median_value = cleaned_series.mode().iloc[0]\n",
    "    cleaned_series = cleaned_series.fillna(median_value)\n",
    "    return cleaned_series\n",
    "\n",
    "def clean_bathroom_data(bathroom_series):\n",
    "    bathroom_series = bathroom_series.astype(str)\n",
    "    def process_value(x):\n",
    "        try:\n",
    "            value = int(float(x))\n",
    "            if 0 <= value <= 6:\n",
    "                return value\n",
    "            else:\n",
    "                return np.nan\n",
    "        except ValueError:\n",
    "            return np.nan\n",
    "    cleaned_series = bathroom_series.apply(process_value)\n",
    "    median_value = cleaned_series.mode().iloc[0]\n",
    "    cleaned_series = cleaned_series.fillna(median_value)\n",
    "    return cleaned_series\n",
    "\n",
    "def clean_drawing_room_data(drawing_room_series):\n",
    "    def process_drawing_room(x):\n",
    "        x = str(x).lower()\n",
    "        if x.isdigit():\n",
    "            return int(x)\n",
    "        else:\n",
    "            parts = x.split()\n",
    "            if len(parts) == 2 and parts[1].isdigit():\n",
    "                return int(parts[1])\n",
    "            else:\n",
    "                return np.nan\n",
    "    cleaned_series = drawing_room_series.apply(process_drawing_room)\n",
    "    median_value = cleaned_series.mode().iloc[0]\n",
    "    cleaned_series = cleaned_series.fillna(median_value)\n",
    "    return cleaned_series"
   ]
  },
  {
   "cell_type": "code",
   "execution_count": 91,
   "metadata": {},
   "outputs": [
    {
     "data": {
      "text/plain": [
       "array([ 42,  20,  22,  25,  17,  24,  30,  16,  21,  13,  18,  26,  14,\n",
       "        35,  19,  32,  39,  37,  15,  29,  34,  27,  11,  36,  43,  45,\n",
       "        23,  31,  38,  49,  33,  40,  44,  12,  28,  60,  41,   9,  58,\n",
       "        10,  54,  48,  59,  66,  68,  46,  69,  61,  50,  47,  64,  57,\n",
       "        51,  70,  56,  67,   8,  62,  53,  52,  65,  71,  63,  74,  90,\n",
       "        91,  72, 110,  55,  80])"
      ]
     },
     "execution_count": 91,
     "metadata": {},
     "output_type": "execute_result"
    }
   ],
   "source": [
    "# Apply data cleaning\n",
    "for df in [train_data, test_data]:\n",
    "    df['constructionTime'] = clean_construction_time_data(df['constructionTime'])\n",
    "    df['livingRoom'].replace({'#NAME?': 2}, inplace=True)\n",
    "    df['distance'] = df.apply(lambda x: distance(x['Lat'], x['Lng']), axis=1)\n",
    "    df['building_age'] = 2024 - df['constructionTime']\n",
    "    df['buildingType'] = clean_building_type_data(df['buildingType'])\n",
    "    df['floor'] = clean_floor_data(df['floor'])\n",
    "    df['bathRoom'] = clean_bathroom_data(df['bathRoom'])\n",
    "    df['drawingRoom'] = clean_drawing_room_data(df['drawingRoom'])"
   ]
  },
  {
   "cell_type": "code",
   "execution_count": 92,
   "metadata": {},
   "outputs": [
    {
     "data": {
      "text/plain": [
       "ID                       int64\n",
       "Lng                    float64\n",
       "Lat                    float64\n",
       "tradeTime               object\n",
       "followers                int64\n",
       "square                 float64\n",
       "livingRoom              object\n",
       "drawingRoom             object\n",
       "kitchen                  int64\n",
       "bathRoom                object\n",
       "floor                   object\n",
       "buildingType           float64\n",
       "constructionTime         int32\n",
       "renovationCondition      int64\n",
       "buildingStructure        int64\n",
       "ladderRatio            float64\n",
       "elevator               float64\n",
       "fiveYearsProperty      float64\n",
       "subway                 float64\n",
       "district                 int64\n",
       "communityAverage       float64\n",
       "distance               float64\n",
       "building_age             int32\n",
       "dtype: object"
      ]
     },
     "execution_count": 92,
     "metadata": {},
     "output_type": "execute_result"
    }
   ],
   "source": [
    "# Select features for training\n",
    "features = ['Lng', 'Lat', 'tradeTime', 'followers', 'square', 'livingRoom',\n",
    "            'drawingRoom', 'kitchen', 'bathRoom', 'floor', 'buildingType',\n",
    "            'constructionTime', 'renovationCondition', 'buildingStructure',\n",
    "            'ladderRatio', 'elevator', 'fiveYearsProperty', 'subway', 'district',\n",
    "            'communityAverage', 'distance', 'building_age']\n",
    "\n",
    "train_data = train_data[features]\n",
    "test_data = test_data[features]\n",
    "# Combine features and apply preprocessing\n",
    "all_features = pd.concat((train_data, test_data))\n",
    "numerical_features = all_features.select_dtypes(include=[np.number]).columns\n",
    "all_features[numerical_features] = all_features[numerical_features].apply(lambda x: (x - x.mean()) / x.std())\n",
    "all_features[numerical_features] = all_features[numerical_features].fillna(0)\n",
    "all_features = pd.get_dummies(all_features, dummy_na=True)"
   ]
  },
  {
   "cell_type": "code",
   "execution_count": 93,
   "metadata": {},
   "outputs": [
    {
     "name": "stdout",
     "output_type": "stream",
     "text": [
      "tradeTime: ['2012-11-12' '2014-11-29' '2015-02-05' ... '2010-02-26' '2010-03-05'\n",
      " '2010-04-11']\n",
      "\n",
      "livingRoom: ['2' '1' '3' '4' '5' '6' '9' '7' '0' '8' 2]\n",
      "\n",
      "drawingRoom: ['1' '2' '0' '3' '4' '中 16' '中 24' '中 14' '底 28' '中 15' '底 11' '5' '低 15'\n",
      " '中 22' '中 6' '低 6' '高 14' '底 20' '低 16' '高 12']\n",
      "\n",
      "bathRoom: ['1' '2' '3' '0' '4' '5' '6' '2006' '未知' '2003' '2005' 1 2 3 0 5 4 2003\n",
      " 2005 6 2000 1990 2006 1994 7 2004 1996 2011]\n",
      "\n",
      "floor: ['顶 5' '高 24' '高 12' '低 24' '中 6' '中 14' '底 5' '低 22' '顶 6' '中 9' '低 18'\n",
      " '中 17' '低 19' '中 11' '高 23' '高 32' '中 18' '底 6' '低 6' '中 12' '低 7' '低 20'\n",
      " '低 14' '中 8' '高 10' '底 7' '高 6' '底 22' '低 28' '底 18' '未知 6' '顶 26' '高 7'\n",
      " '中 5' '高 9' '中 16' '高 16' '中 21' '低 21' '低 11' '中 31' '高 18' '高 15'\n",
      " '底 28' '低 17' '低 30' '高 27' '底 13' '底 4' '低 12' '高 25' '中 19' '低 16'\n",
      " '低 29' '高 22' '顶 4' '中 7' '顶 22' '中 15' '中 22' '底 11' '顶 16' '中 10'\n",
      " '中 28' '低 9' '底 10' '高 26' '顶 14' '顶 9' '中 29' '顶 17' '低 26' '高 11'\n",
      " '高 30' '低 25' '高 17' '低 10' '顶 7' '低 32' '中 13' '中 25' '底 26' '中 27'\n",
      " '顶 18' '中 32' '低 15' '顶 20' '中 20' '高 14' '顶 24' '中 24' '低 27' '底 20'\n",
      " '底 1' '中 23' '高 19' '底 12' '高 20' '高 28' '高 31' '高 13' '顶 11' '底 16'\n",
      " '顶 15' '中 26' '中 4' '顶 13' '底 15' '高 21' '低 13' '高 34' '底 21' '顶 21'\n",
      " '底 14' '顶 12' '底 3' '低 8' '高 29' '低 23' '底 9' '未知 11' '顶 23' '顶 10'\n",
      " '底 25' '顶 30' '顶 8' '中 30' '未知 26' '未知 4' '未知 5' '低 31' '未知 7' '未知 16'\n",
      " '低 33' '顶 25' '高 33' '未知 18' '顶 28' '中 34' '顶 27' '未知 3' '高 8' '底 17'\n",
      " '顶 19' '顶 2' '中 33' '未知 14' '顶 3' '顶 29' '底 24' '低 42' '未知 25' '低 3'\n",
      " '底 23' '顶 34' '未知 24' '底 19' '底 8' '未知 23' '中 42' '低 34' '底 30' '低 37'\n",
      " '未知 20' '未知 31' '未知 12' '未知 21' '未知 10' '底 29' '底 2' '未知 22' '底 31'\n",
      " '底 27' '底 32' '未知 8' '顶 32' '高 36' '未知 28' '中 36' '未知 19' '未知 27' '未知 13'\n",
      " '未知 17' '钢混结构' '未知 15' '底 33' '顶 33' '未知 29' '高 37' '底 34' '未知 9' '未知 30'\n",
      " '高 42' '低 63' '顶 31' '中 37' '混合结构' '低 36' '中 35' '低 2' '低 35' '中 57']\n",
      "\n"
     ]
    }
   ],
   "source": [
    "# Split data\n",
    "n_train = train_data.shape[0]\n",
    "train_features = all_features[:n_train]\n",
    "test_features = all_features[n_train:]\n",
    "train_labels = Y_train.values\n",
    "\n",
    "x_train, x_valid, y_train, y_valid = train_test_split(train_features, train_labels, test_size=0.25, random_state=27)\n"
   ]
  },
  {
   "cell_type": "code",
   "execution_count": 94,
   "metadata": {},
   "outputs": [
    {
     "name": "stdout",
     "output_type": "stream",
     "text": [
      "6\n"
     ]
    }
   ],
   "source": [
    "# RandomForest model\n",
    "rf = RandomForestRegressor(random_state=42, n_estimators=900, max_depth=20, n_jobs=-1, min_samples_split=10)\n",
    "rf.fit(x_train, y_train)"
   ]
  },
  {
   "cell_type": "code",
   "execution_count": 95,
   "metadata": {},
   "outputs": [],
   "source": []
  },
  {
   "cell_type": "code",
   "execution_count": 98,
   "metadata": {},
   "outputs": [
    {
     "data": {
      "text/plain": [
       "Index(['ID', 'Lng', 'Lat', 'tradeTime', 'followers', 'square', 'livingRoom',\n",
       "       'drawingRoom', 'kitchen', 'bathRoom', 'floor', 'buildingType',\n",
       "       'constructionTime', 'renovationCondition', 'buildingStructure',\n",
       "       'ladderRatio', 'elevator', 'fiveYearsProperty', 'subway', 'district',\n",
       "       'communityAverage', 'distance', 'building_age'],\n",
       "      dtype='object')"
      ]
     },
     "execution_count": 98,
     "metadata": {},
     "output_type": "execute_result"
    }
   ],
   "source": [
    "train_data.columns"
   ]
  },
  {
   "cell_type": "code",
   "execution_count": 99,
   "metadata": {},
   "outputs": [
    {
     "data": {
      "text/plain": [
       "Lat                             False\n",
       "followers                       False\n",
       "square                          False\n",
       "drawingRoom                     False\n",
       "kitchen                         False\n",
       "                                ...  \n",
       "buildingType_Plate              False\n",
       "buildingType_Tower              False\n",
       "buildingType_Tower and Plate    False\n",
       "buildingType_Unknown            False\n",
       "buildingType_nan                False\n",
       "Length: 2597, dtype: bool"
      ]
     },
     "execution_count": 99,
     "metadata": {},
     "output_type": "execute_result"
    }
   ],
   "source": [
    "#lấy những columns cần thiết để training\n",
    "train = ['Lng', 'Lat', 'tradeTime', 'followers', 'square', 'livingRoom',\n",
    "       'drawingRoom', 'kitchen', 'bathRoom', 'floor', 'buildingType',\n",
    "       'constructionTime', 'renovationCondition', 'buildingStructure',\n",
    "       'ladderRatio', 'elevator', 'fiveYearsProperty', 'subway', 'district',\n",
    "       'communityAverage', 'distance', 'building_age']\n",
    "train_data = train_data[train]\n",
    "test_data = test_data[train]\n",
    "\n",
    "all_features = pd.concat((train_data.iloc[:, 1:-1], test_data.iloc[:, 1:]))\n",
    "\n",
    "#obtain all the numerical features\n",
    "numerical_features = all_features.dtypes[all_features.dtypes != 'object'].index\n",
    "#apply standardization to each feature\n",
    "all_features[numerical_features] = all_features[numerical_features].apply( lambda x: (x-x.mean()) / x.std() )\n",
    "#replace missing values with 0\n",
    "all_features[numerical_features] = all_features[numerical_features].fillna(0)\n",
    "#one-hot encoding consider missing values as a category.\n",
    "all_features = pd.get_dummies(all_features, dummy_na=True)\n",
    "all_features.shape\n",
    "\n",
    "pd.isna(all_features).any()"
   ]
  },
  {
   "cell_type": "code",
   "execution_count": 100,
   "metadata": {},
   "outputs": [],
   "source": [
    "#Tách dữ liệu thành tập huấn luyện và tập kiểm tra\n",
    "n_train = train_data.shape[0]\n",
    "train_features = all_features[:n_train]\n",
    "test_features = all_features[n_train:]\n",
    "train_labels = Y_train.values\n",
    "\n",
    "# Tách tập huấn luyện thành tập train và validation\n",
    "x_train, x_valid,y_train, y_valid = train_test_split(train_features, train_labels, test_size=0.250001, random_state = 27)\n"
   ]
  },
  {
   "cell_type": "code",
   "execution_count": 101,
   "metadata": {},
   "outputs": [],
   "source": [
    "# RandomForest model\n",
    "rf = RandomForestRegressor(random_state=42, n_estimators=900, max_depth=20, n_jobs=-1, min_samples_split=10)\n",
    "rf.fit(x_train, y_train)"
   ]
  },
  {
   "cell_type": "code",
   "execution_count": null,
   "metadata": {},
   "outputs": [],
   "source": [
    "\n",
    "# Get RandomForest predictions\n",
    "rf_train_pred = rf.predict(x_train)\n",
    "rf_valid_pred = rf.predict(x_valid)\n",
    "rf_test_pred = rf.predict(test_features)"
   ]
  },
  {
   "cell_type": "code",
   "execution_count": 59,
   "metadata": {},
   "outputs": [
    {
     "name": "stdout",
     "output_type": "stream",
     "text": [
      "Predictions have been saved to 'predictions.csv'\n"
     ]
    }
   ],
   "source": [
    "# MLP model\n",
    "def create_mlp_model(input_shape):\n",
    "    model = models.Sequential([\n",
    "        layers.Dense(128, activation='relu', input_shape=(input_shape,)),\n",
    "        layers.BatchNormalization(),\n",
    "        layers.Dropout(0.3),\n",
    "        layers.Dense(64, activation='relu'),\n",
    "        layers.BatchNormalization(),\n",
    "        layers.Dropout(0.3),\n",
    "        layers.Dense(32, activation='relu'),\n",
    "        layers.BatchNormalization(),\n",
    "        layers.Dense(1)\n",
    "    ])\n",
    "    return model"
   ]
  },
  {
   "cell_type": "code",
   "execution_count": null,
   "metadata": {},
   "outputs": [],
   "source": [
    "# Prepare data for MLP\n",
    "scaler = StandardScaler()\n",
    "x_train_scaled = scaler.fit_transform(x_train)\n",
    "x_valid_scaled = scaler.transform(x_valid)\n",
    "test_features_scaled = scaler.transform(test_features)\n",
    "\n",
    "# Create and compile the MLP model\n",
    "mlp_model = create_mlp_model(x_train.shape[1])\n",
    "mlp_model.compile(optimizer='adam', loss='mse')"
   ]
  },
  {
   "cell_type": "code",
   "execution_count": null,
   "metadata": {},
   "outputs": [],
   "source": [
    "# Train the MLP model\n",
    "early_stopping = callbacks.EarlyStopping(patience=10, restore_best_weights=True)\n",
    "history = mlp_model.fit(\n",
    "    x_train_scaled, rf_train_pred,\n",
    "    validation_data=(x_valid_scaled, rf_valid_pred),\n",
    "    epochs=100,\n",
    "    batch_size=32,\n",
    "    callbacks=[early_stopping],\n",
    "    verbose=1\n",
    ")"
   ]
  },
  {
   "cell_type": "code",
   "execution_count": null,
   "metadata": {},
   "outputs": [],
   "source": [
    "# Make predictions using MLP\n",
    "mlp_predictions = mlp_model.predict(test_features_scaled).flatten()\n",
    "\n",
    "# Save MLP predictions\n",
    "mlp_results_df = pd.DataFrame({\n",
    "    'ID': range(len(mlp_predictions)),\n",
    "    'TARGET': mlp_predictions\n",
    "})\n",
    "mlp_results_df.to_csv('mlp_predictions.csv', index=False)\n",
    "print(\"MLP predictions have been saved to 'mlp_predictions.csv'\")"
   ]
  }
 ],
 "metadata": {
  "kernelspec": {
   "display_name": "ai_class",
   "language": "python",
   "name": "python3"
  },
  "language_info": {
   "codemirror_mode": {
    "name": "ipython",
    "version": 3
   },
   "file_extension": ".py",
   "mimetype": "text/x-python",
   "name": "python",
   "nbconvert_exporter": "python",
   "pygments_lexer": "ipython3",
   "version": "3.9.18"
  }
 },
 "nbformat": 4,
 "nbformat_minor": 2
}
