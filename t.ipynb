{
 "cells": [
  {
   "cell_type": "code",
   "execution_count": 56,
   "metadata": {},
   "outputs": [],
   "source": [
    "import pandas as pd\n",
    "import numpy as np\n",
    "import matplotlib.pyplot as plt\n",
    "import seaborn as sns\n",
    "\n",
    "from sklearn.preprocessing import LabelEncoder, StandardScaler\n",
    "from sklearn.model_selection import train_test_split\n",
    "from sklearn.metrics import mean_absolute_error\n",
    "\n",
    "from tensorflow.keras.models import Sequential\n",
    "from tensorflow.keras.layers import Dense, Dropout\n",
    "from tensorflow.keras.callbacks import ReduceLROnPlateau\n",
    "\n",
    "from sklearn.ensemble import RandomForestRegressor"
   ]
  },
  {
   "cell_type": "code",
   "execution_count": 57,
   "metadata": {},
   "outputs": [
    {
     "name": "stderr",
     "output_type": "stream",
     "text": [
      "C:\\Users\\ADMIN\\AppData\\Local\\Temp\\ipykernel_14668\\1113252678.py:2: DtypeWarning: Columns (9) have mixed types. Specify dtype option on import or set low_memory=False.\n",
      "  x_train  = pd.read_csv('data/X_train.csv')\n"
     ]
    },
    {
     "name": "stdout",
     "output_type": "stream",
     "text": [
      "X_train shape: (255080, 21)\n",
      "Y_train shape: (255080, 2)\n",
      "X_test shape: (63771, 20)\n"
     ]
    }
   ],
   "source": [
    "# Load the data\n",
    "x_train  = pd.read_csv('data/X_train.csv')\n",
    "y_train  = pd.read_csv('data/Y_train.csv')\n",
    "x_test  = pd.read_csv('data/X_test.csv')\n",
    "# Check data shapes\n",
    "print(\"X_train shape:\", x_train.shape)\n",
    "print(\"Y_train shape:\", y_train.shape)\n",
    "print(\"X_test shape:\", x_test.shape)"
   ]
  },
  {
   "cell_type": "code",
   "execution_count": 58,
   "metadata": {},
   "outputs": [],
   "source": [
    "# Merge x_train and y_train\n",
    "train = pd.merge(x_train, y_train, on='ID')"
   ]
  },
  {
   "cell_type": "code",
   "execution_count": 59,
   "metadata": {},
   "outputs": [],
   "source": [
    "# Data preprocessing\n",
    "train.drop('ID', axis=1, inplace=True)\n",
    "if 'ID' in x_test.columns:\n",
    "    x_test.drop('ID', axis=1, inplace=True)"
   ]
  },
  {
   "cell_type": "code",
   "execution_count": 60,
   "metadata": {},
   "outputs": [],
   "source": [
    "# Process 'tradeTime'\n",
    "train['tradeTime'] = pd.to_datetime(train['tradeTime'])\n",
    "x_test['tradeTime'] = pd.to_datetime(x_test['tradeTime'])\n",
    "train['tradeYear'] = train['tradeTime'].dt.year\n",
    "train['tradeMonth'] = train['tradeTime'].dt.month\n",
    "x_test['tradeYear'] = x_test['tradeTime'].dt.year\n",
    "x_test['tradeMonth'] = x_test['tradeTime'].dt.month\n",
    "train.drop('tradeTime', axis=1, inplace=True)\n",
    "x_test.drop('tradeTime', axis=1, inplace=True)"
   ]
  },
  {
   "cell_type": "code",
   "execution_count": 61,
   "metadata": {},
   "outputs": [],
   "source": [
    "# Process 'floor' column\n",
    "\n",
    "def process_floor(x):\n",
    "    if '低' in x:\n",
    "        return 0\n",
    "    elif '中' in x:\n",
    "        return 1\n",
    "    elif '高' in x:\n",
    "        return 2\n",
    "    elif '顶' in x:\n",
    "        return 3\n",
    "    elif '底' in x:\n",
    "        return 4\n",
    "    elif '未知' in x:\n",
    "        return 5\n",
    "    elif '混合' in x:\n",
    "        return 6\n",
    "    else:\n",
    "        return -1\n",
    "\n",
    "train['floor'] = train['floor'].apply(process_floor)\n",
    "x_test['floor'] = x_test['floor'].apply(process_floor)"
   ]
  },
  {
   "cell_type": "code",
   "execution_count": 62,
   "metadata": {},
   "outputs": [],
   "source": [
    "# Xử lý các biến phân loại\n",
    "categorical_features = ['renovationCondition', 'buildingStructure', 'district', 'buildingType']\n",
    "for col in categorical_features:\n",
    "    lbl = LabelEncoder()\n",
    "    lbl.fit(list(train[col].astype(str)) + list(x_test[col].astype(str)))\n",
    "    train[col] = lbl.transform(train[col].astype(str))\n",
    "    x_test[col] = lbl.transform(x_test[col].astype(str))"
   ]
  },
  {
   "cell_type": "code",
   "execution_count": 63,
   "metadata": {},
   "outputs": [],
   "source": [
    "# Xử lý các giá trị thiếu\n",
    "train.fillna(-999, inplace=True)\n",
    "x_test.fillna(-999, inplace=True)\n",
    "# xoá đi các hàng livingRoom có giá trị #NAME?\n",
    "train = train[train['livingRoom'] != '#NAME?']\n",
    "x_test = x_test[x_test['livingRoom'] != '#NAME?']\n",
    "# xoá đi các hàng constructionTime có giá trị 未知\n",
    "train = train[train['constructionTime'] != '未知']\n",
    "x_test = x_test[x_test['constructionTime'] != '未知']\n"
   ]
  },
  {
   "cell_type": "code",
   "execution_count": 64,
   "metadata": {},
   "outputs": [
    {
     "name": "stderr",
     "output_type": "stream",
     "text": [
      "C:\\Users\\ADMIN\\AppData\\Local\\Temp\\ipykernel_14668\\3819061999.py:20: FutureWarning: A value is trying to be set on a copy of a DataFrame or Series through chained assignment using an inplace method.\n",
      "The behavior will change in pandas 3.0. This inplace method will never work because the intermediate object on which we are setting values always behaves as a copy.\n",
      "\n",
      "For example, when doing 'df[col].method(value, inplace=True)', try using 'df.method({col: value}, inplace=True)' or df[col] = df[col].method(value) instead, to perform the operation inplace on the original object.\n",
      "\n",
      "\n",
      "  train['livingRoom'].fillna(train['livingRoom'].mean(), inplace=True)\n",
      "C:\\Users\\ADMIN\\AppData\\Local\\Temp\\ipykernel_14668\\3819061999.py:21: FutureWarning: A value is trying to be set on a copy of a DataFrame or Series through chained assignment using an inplace method.\n",
      "The behavior will change in pandas 3.0. This inplace method will never work because the intermediate object on which we are setting values always behaves as a copy.\n",
      "\n",
      "For example, when doing 'df[col].method(value, inplace=True)', try using 'df.method({col: value}, inplace=True)' or df[col] = df[col].method(value) instead, to perform the operation inplace on the original object.\n",
      "\n",
      "\n",
      "  train['drawingRoom'].fillna(train['drawingRoom'].mean(), inplace=True)\n",
      "C:\\Users\\ADMIN\\AppData\\Local\\Temp\\ipykernel_14668\\3819061999.py:22: FutureWarning: A value is trying to be set on a copy of a DataFrame or Series through chained assignment using an inplace method.\n",
      "The behavior will change in pandas 3.0. This inplace method will never work because the intermediate object on which we are setting values always behaves as a copy.\n",
      "\n",
      "For example, when doing 'df[col].method(value, inplace=True)', try using 'df.method({col: value}, inplace=True)' or df[col] = df[col].method(value) instead, to perform the operation inplace on the original object.\n",
      "\n",
      "\n",
      "  train['kitchen'].fillna(train['kitchen'].mean(), inplace=True)\n",
      "C:\\Users\\ADMIN\\AppData\\Local\\Temp\\ipykernel_14668\\3819061999.py:23: FutureWarning: A value is trying to be set on a copy of a DataFrame or Series through chained assignment using an inplace method.\n",
      "The behavior will change in pandas 3.0. This inplace method will never work because the intermediate object on which we are setting values always behaves as a copy.\n",
      "\n",
      "For example, when doing 'df[col].method(value, inplace=True)', try using 'df.method({col: value}, inplace=True)' or df[col] = df[col].method(value) instead, to perform the operation inplace on the original object.\n",
      "\n",
      "\n",
      "  train['bathRoom'].fillna(train['bathRoom'].mean(), inplace=True)\n",
      "C:\\Users\\ADMIN\\AppData\\Local\\Temp\\ipykernel_14668\\3819061999.py:25: FutureWarning: A value is trying to be set on a copy of a DataFrame or Series through chained assignment using an inplace method.\n",
      "The behavior will change in pandas 3.0. This inplace method will never work because the intermediate object on which we are setting values always behaves as a copy.\n",
      "\n",
      "For example, when doing 'df[col].method(value, inplace=True)', try using 'df.method({col: value}, inplace=True)' or df[col] = df[col].method(value) instead, to perform the operation inplace on the original object.\n",
      "\n",
      "\n",
      "  x_test['livingRoom'].fillna(x_test['livingRoom'].mean(), inplace=True)\n",
      "C:\\Users\\ADMIN\\AppData\\Local\\Temp\\ipykernel_14668\\3819061999.py:26: FutureWarning: A value is trying to be set on a copy of a DataFrame or Series through chained assignment using an inplace method.\n",
      "The behavior will change in pandas 3.0. This inplace method will never work because the intermediate object on which we are setting values always behaves as a copy.\n",
      "\n",
      "For example, when doing 'df[col].method(value, inplace=True)', try using 'df.method({col: value}, inplace=True)' or df[col] = df[col].method(value) instead, to perform the operation inplace on the original object.\n",
      "\n",
      "\n",
      "  x_test['drawingRoom'].fillna(x_test['drawingRoom'].mean(), inplace=True)\n",
      "C:\\Users\\ADMIN\\AppData\\Local\\Temp\\ipykernel_14668\\3819061999.py:27: FutureWarning: A value is trying to be set on a copy of a DataFrame or Series through chained assignment using an inplace method.\n",
      "The behavior will change in pandas 3.0. This inplace method will never work because the intermediate object on which we are setting values always behaves as a copy.\n",
      "\n",
      "For example, when doing 'df[col].method(value, inplace=True)', try using 'df.method({col: value}, inplace=True)' or df[col] = df[col].method(value) instead, to perform the operation inplace on the original object.\n",
      "\n",
      "\n",
      "  x_test['kitchen'].fillna(x_test['kitchen'].mean(), inplace=True)\n",
      "C:\\Users\\ADMIN\\AppData\\Local\\Temp\\ipykernel_14668\\3819061999.py:28: FutureWarning: A value is trying to be set on a copy of a DataFrame or Series through chained assignment using an inplace method.\n",
      "The behavior will change in pandas 3.0. This inplace method will never work because the intermediate object on which we are setting values always behaves as a copy.\n",
      "\n",
      "For example, when doing 'df[col].method(value, inplace=True)', try using 'df.method({col: value}, inplace=True)' or df[col] = df[col].method(value) instead, to perform the operation inplace on the original object.\n",
      "\n",
      "\n",
      "  x_test['bathRoom'].fillna(x_test['bathRoom'].mean(), inplace=True)\n"
     ]
    }
   ],
   "source": [
    "# Convert columns to numeric, coercing errors to NaN\n",
    "train['livingRoom'] = pd.to_numeric(train['livingRoom'], errors='coerce')\n",
    "train['drawingRoom'] = pd.to_numeric(train['drawingRoom'], errors='coerce')\n",
    "train['kitchen'] = pd.to_numeric(train['kitchen'], errors='coerce')\n",
    "train['bathRoom'] = pd.to_numeric(train['bathRoom'], errors='coerce')\n",
    "\n",
    "x_test['livingRoom'] = pd.to_numeric(x_test['livingRoom'], errors='coerce')\n",
    "x_test['drawingRoom'] = pd.to_numeric(x_test['drawingRoom'], errors='coerce')\n",
    "x_test['kitchen'] = pd.to_numeric(x_test['kitchen'], errors='coerce')\n",
    "x_test['bathRoom'] = pd.to_numeric(x_test['bathRoom'], errors='coerce')\n",
    "\n",
    "# Perform calculations after conversion\n",
    "train['room_sum'] = train['livingRoom'] + train['drawingRoom'] + train['kitchen'] + train['bathRoom']\n",
    "x_test['room_sum'] = x_test['livingRoom'] + x_test['drawingRoom'] + x_test['kitchen'] + x_test['bathRoom']\n",
    "\n",
    "train['area_per_room'] = train['square'] / train['room_sum']\n",
    "x_test['area_per_room'] = x_test['square'] / x_test['room_sum']\n",
    "\n",
    "# Handling NaN values by filling with the mean\n",
    "train['livingRoom'].fillna(train['livingRoom'].mean(), inplace=True)\n",
    "train['drawingRoom'].fillna(train['drawingRoom'].mean(), inplace=True)\n",
    "train['kitchen'].fillna(train['kitchen'].mean(), inplace=True)\n",
    "train['bathRoom'].fillna(train['bathRoom'].mean(), inplace=True)\n",
    "\n",
    "x_test['livingRoom'].fillna(x_test['livingRoom'].mean(), inplace=True)\n",
    "x_test['drawingRoom'].fillna(x_test['drawingRoom'].mean(), inplace=True)\n",
    "x_test['kitchen'].fillna(x_test['kitchen'].mean(), inplace=True)\n",
    "x_test['bathRoom'].fillna(x_test['bathRoom'].mean(), inplace=True)"
   ]
  },
  {
   "cell_type": "code",
   "execution_count": 65,
   "metadata": {},
   "outputs": [],
   "source": [
    "# Chuẩn hóa dữ liệu\n",
    "scaler = StandardScaler()\n",
    "numerical_feats = train.select_dtypes(include=[np.number]).columns.tolist()\n",
    "numerical_feats.remove('TARGET')\n",
    "\n",
    "train[numerical_feats] = scaler.fit_transform(train[numerical_feats])\n",
    "x_test[numerical_feats] = scaler.transform(x_test[numerical_feats])"
   ]
  },
  {
   "cell_type": "code",
   "execution_count": 66,
   "metadata": {},
   "outputs": [],
   "source": [
    "# Tách dữ liệu train và validation\n",
    "X = train.drop('TARGET', axis=1)\n",
    "y = train['TARGET']\n",
    "X_train_part, X_val, y_train_part, y_val = train_test_split(X, y, test_size=0.2, random_state=42)\n"
   ]
  },
  {
   "cell_type": "code",
   "execution_count": 67,
   "metadata": {},
   "outputs": [],
   "source": [
    "# Huấn luyện RandomForest để lấy kết quả dự đoán\n",
    "rf = RandomForestRegressor(n_estimators=100, random_state=42)\n",
    "rf.fit(X_train_part, y_train_part)\n",
    "rf_train_pred = rf.predict(X_train_part)\n",
    "rf_val_pred = rf.predict(X_val)"
   ]
  },
  {
   "cell_type": "code",
   "execution_count": 68,
   "metadata": {},
   "outputs": [],
   "source": [
    "# Huấn luyện mô hình MLP\n",
    "def build_mlp_model(input_dim):\n",
    "    model = Sequential()\n",
    "    model.add(Dense(128, input_dim=input_dim, activation='relu'))\n",
    "    model.add(Dropout(0.3))\n",
    "    model.add(Dense(64, activation='relu'))\n",
    "    model.add(Dropout(0.3))\n",
    "    model.add(Dense(32, activation='relu'))\n",
    "    model.add(Dense(1))\n",
    "    model.compile(loss='mae', optimizer='adam')\n",
    "    return model"
   ]
  },
  {
   "cell_type": "code",
   "execution_count": 69,
   "metadata": {},
   "outputs": [],
   "source": [
    "# Thêm kết quả RandomForest vào dữ liệu huấn luyện MLP\n",
    "X_train_mlp = X_train_part.copy()\n",
    "X_train_mlp['rf_pred'] = rf_train_pred\n",
    "X_val_mlp = X_val.copy()\n",
    "X_val_mlp['rf_pred'] = rf_val_pred"
   ]
  },
  {
   "cell_type": "code",
   "execution_count": 70,
   "metadata": {},
   "outputs": [
    {
     "name": "stderr",
     "output_type": "stream",
     "text": [
      "d:\\App\\anacoda\\envs\\ai_class\\lib\\site-packages\\keras\\src\\layers\\core\\dense.py:87: UserWarning: Do not pass an `input_shape`/`input_dim` argument to a layer. When using Sequential models, prefer using an `Input(shape)` object as the first layer in the model instead.\n",
      "  super().__init__(activity_regularizer=activity_regularizer, **kwargs)\n"
     ]
    }
   ],
   "source": [
    "# Xây dựng mô hình MLP\n",
    "mlp_model = build_mlp_model(X_train_mlp.shape[1])\n",
    "\n",
    "# Sử dụng ReduceLROnPlateau\n",
    "rlr = ReduceLROnPlateau(monitor='val_loss', factor=0.5, patience=5, min_lr=1e-6)"
   ]
  },
  {
   "cell_type": "code",
   "execution_count": 71,
   "metadata": {},
   "outputs": [
    {
     "name": "stdout",
     "output_type": "stream",
     "text": [
      "\u001b[1m1498/1498\u001b[0m \u001b[32m━━━━━━━━━━━━━━━━━━━━\u001b[0m\u001b[37m\u001b[0m \u001b[1m6s\u001b[0m 4ms/step\n",
      "Mean Absolute Error trên tập validation: 302.2264152245553\n"
     ]
    }
   ],
   "source": [
    "# Đánh giá mô hình trên tập validation\n",
    "val_pred = mlp_model.predict(X_val_mlp)\n",
    "mae = mean_absolute_error(y_val, val_pred)\n",
    "print(f\"Mean Absolute Error trên tập validation: {mae}\")"
   ]
  },
  {
   "cell_type": "code",
   "execution_count": 72,
   "metadata": {},
   "outputs": [],
   "source": [
    "# Dự đoán trên tập test\n",
    "# Dự đoán kết quả từ RandomForest trên x_test\n",
    "rf_test_pred = rf.predict(x_test)\n",
    "\n",
    "# Thêm kết quả rf_pred vào x_test để dùng cho MLP\n",
    "x_test_mlp = x_test.copy()\n",
    "x_test_mlp['rf_pred'] = rf_test_pred"
   ]
  },
  {
   "cell_type": "code",
   "execution_count": 74,
   "metadata": {},
   "outputs": [
    {
     "name": "stdout",
     "output_type": "stream",
     "text": [
      "\u001b[1m1873/1873\u001b[0m \u001b[32m━━━━━━━━━━━━━━━━━━━━\u001b[0m\u001b[37m\u001b[0m \u001b[1m8s\u001b[0m 4ms/step\n",
      "   ID     TARGET\n",
      "0   0  44.704521\n",
      "1   1  46.305290\n",
      "2   2  41.744293\n",
      "3   3  43.482246\n",
      "4   4  55.264744\n"
     ]
    }
   ],
   "source": [
    "\n",
    "# Dự đoán kết quả cuối cùng bằng mô hình MLP\n",
    "test_pred = mlp_model.predict(x_test_mlp)\n",
    "x_test_ids = np.arange(len(x_test))  \n",
    "\n",
    "# Chuẩn bị file kết quả\n",
    "output = pd.DataFrame({'ID': x_test_ids, 'TARGET': test_pred.flatten()})\n",
    "print(output.head())\n",
    "\n",
    "# Lưu kết quả dự đoán ra file CSV\n",
    "output.to_csv('submission.csv', index=False)"
   ]
  }
 ],
 "metadata": {
  "kernelspec": {
   "display_name": "ai_class",
   "language": "python",
   "name": "python3"
  },
  "language_info": {
   "codemirror_mode": {
    "name": "ipython",
    "version": 3
   },
   "file_extension": ".py",
   "mimetype": "text/x-python",
   "name": "python",
   "nbconvert_exporter": "python",
   "pygments_lexer": "ipython3",
   "version": "3.9.18"
  }
 },
 "nbformat": 4,
 "nbformat_minor": 2
}
