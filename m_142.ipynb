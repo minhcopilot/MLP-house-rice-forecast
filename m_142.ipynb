{
 "cells": [
  {
   "cell_type": "code",
   "execution_count": 1,
   "metadata": {},
   "outputs": [],
   "source": [
    "# Import libraries\n",
    "import pandas as pd\n",
    "import numpy as np\n",
    "import tensorflow as tf\n",
    "from math import radians, cos, sin, asin, sqrt\n",
    "from tensorflow.keras import layers, models, callbacks\n",
    "from sklearn.model_selection import train_test_split\n",
    "from sklearn.preprocessing import StandardScaler, LabelEncoder\n",
    "from sklearn.metrics import mean_squared_error\n",
    "import matplotlib.pyplot as plt\n",
    "import seaborn as sns\n",
    "import re\n",
    "from tensorflow.keras.optimizers import Adam\n",
    "from tensorflow.keras.callbacks import ReduceLROnPlateau\n",
    "from tensorflow.keras.optimizers.schedules import ExponentialDecay\n",
    "from sklearn.ensemble import RandomForestRegressor\n",
    "from sklearn import preprocessing\n",
    "from sklearn.ensemble import VotingRegressor\n",
    "from sklearn.ensemble import StackingRegressor\n"
   ]
  },
  {
   "cell_type": "code",
   "execution_count": 2,
   "metadata": {},
   "outputs": [
    {
     "name": "stderr",
     "output_type": "stream",
     "text": [
      "C:\\Users\\ADMIN\\AppData\\Local\\Temp\\ipykernel_15572\\3271525685.py:2: DtypeWarning: Columns (9) have mixed types. Specify dtype option on import or set low_memory=False.\n",
      "  train_data = pd.read_csv('data/X_train.csv')\n"
     ]
    }
   ],
   "source": [
    "# Load the data\n",
    "train_data = pd.read_csv('data/X_train.csv')\n",
    "Y_train = pd.read_csv('data/y_train.csv')\n",
    "test_data = pd.read_csv('data/X_test.csv')"
   ]
  },
  {
   "cell_type": "code",
   "execution_count": 3,
   "metadata": {},
   "outputs": [
    {
     "name": "stderr",
     "output_type": "stream",
     "text": [
      "C:\\Users\\ADMIN\\AppData\\Local\\Temp\\ipykernel_15572\\221399378.py:2: FutureWarning: A value is trying to be set on a copy of a DataFrame or Series through chained assignment using an inplace method.\n",
      "The behavior will change in pandas 3.0. This inplace method will never work because the intermediate object on which we are setting values always behaves as a copy.\n",
      "\n",
      "For example, when doing 'df[col].method(value, inplace=True)', try using 'df.method({col: value}, inplace=True)' or df[col] = df[col].method(value) instead, to perform the operation inplace on the original object.\n",
      "\n",
      "\n",
      "  train_data['constructionTime'].replace({'未知': 0}, inplace=True)\n",
      "C:\\Users\\ADMIN\\AppData\\Local\\Temp\\ipykernel_15572\\221399378.py:3: FutureWarning: A value is trying to be set on a copy of a DataFrame or Series through chained assignment using an inplace method.\n",
      "The behavior will change in pandas 3.0. This inplace method will never work because the intermediate object on which we are setting values always behaves as a copy.\n",
      "\n",
      "For example, when doing 'df[col].method(value, inplace=True)', try using 'df.method({col: value}, inplace=True)' or df[col] = df[col].method(value) instead, to perform the operation inplace on the original object.\n",
      "\n",
      "\n",
      "  test_data['constructionTime'].replace({'未知': 0}, inplace=True)\n",
      "C:\\Users\\ADMIN\\AppData\\Local\\Temp\\ipykernel_15572\\221399378.py:4: FutureWarning: A value is trying to be set on a copy of a DataFrame or Series through chained assignment using an inplace method.\n",
      "The behavior will change in pandas 3.0. This inplace method will never work because the intermediate object on which we are setting values always behaves as a copy.\n",
      "\n",
      "For example, when doing 'df[col].method(value, inplace=True)', try using 'df.method({col: value}, inplace=True)' or df[col] = df[col].method(value) instead, to perform the operation inplace on the original object.\n",
      "\n",
      "\n",
      "  train_data['livingRoom'].replace({'#NAME?': 2}, inplace=True)\n",
      "C:\\Users\\ADMIN\\AppData\\Local\\Temp\\ipykernel_15572\\221399378.py:5: FutureWarning: A value is trying to be set on a copy of a DataFrame or Series through chained assignment using an inplace method.\n",
      "The behavior will change in pandas 3.0. This inplace method will never work because the intermediate object on which we are setting values always behaves as a copy.\n",
      "\n",
      "For example, when doing 'df[col].method(value, inplace=True)', try using 'df.method({col: value}, inplace=True)' or df[col] = df[col].method(value) instead, to perform the operation inplace on the original object.\n",
      "\n",
      "\n",
      "  test_data['livingRoom'].replace({'#NAME?': 2}, inplace=True)\n",
      "C:\\Users\\ADMIN\\AppData\\Local\\Temp\\ipykernel_15572\\221399378.py:45: FutureWarning: A value is trying to be set on a copy of a DataFrame or Series through chained assignment using an inplace method.\n",
      "The behavior will change in pandas 3.0. This inplace method will never work because the intermediate object on which we are setting values always behaves as a copy.\n",
      "\n",
      "For example, when doing 'df[col].method(value, inplace=True)', try using 'df.method({col: value}, inplace=True)' or df[col] = df[col].method(value) instead, to perform the operation inplace on the original object.\n",
      "\n",
      "\n",
      "  train_data['buildingType'].replace(1,'Tower',inplace=True)\n",
      "C:\\Users\\ADMIN\\AppData\\Local\\Temp\\ipykernel_15572\\221399378.py:50: FutureWarning: A value is trying to be set on a copy of a DataFrame or Series through chained assignment using an inplace method.\n",
      "The behavior will change in pandas 3.0. This inplace method will never work because the intermediate object on which we are setting values always behaves as a copy.\n",
      "\n",
      "For example, when doing 'df[col].method(value, inplace=True)', try using 'df.method({col: value}, inplace=True)' or df[col] = df[col].method(value) instead, to perform the operation inplace on the original object.\n",
      "\n",
      "\n",
      "  test_data['buildingType'].replace(1,'Tower',inplace=True)\n"
     ]
    }
   ],
   "source": [
    "\n",
    "# Chuyen ki tu khong xac dinh bang so \"0\" hoặc 2\n",
    "train_data['constructionTime'].replace({'未知': 0}, inplace=True)\n",
    "test_data['constructionTime'].replace({'未知': 0}, inplace=True)\n",
    "train_data['livingRoom'].replace({'#NAME?': 2}, inplace=True)\n",
    "test_data['livingRoom'].replace({'#NAME?': 2}, inplace=True)\n",
    "\n",
    "# Cat 2 ky tu cuoi va gan gia tri moi vao cot floor\n",
    "floor_col_train = train_data.floor.apply(lambda x: str(x)[-2:])\n",
    "floor_col_test = test_data.floor.apply(lambda x: str(x)[-2:])\n",
    "\n",
    "train_data['floor'] = floor_col_train\n",
    "test_data['floor'] = floor_col_test\n",
    "\n",
    "# We will find distance agnaist each lat and lng from Beijing (lat:39.916668,lon:116.383331)\n",
    "def distance(lat2, lon2,lat1=39.916668,lon1=116.383331): \n",
    "      \n",
    "    # The math module contains a function named \n",
    "    # radians which converts from degrees to radians. \n",
    "    lon1 = radians(lon1) \n",
    "    lon2 = radians(lon2) \n",
    "    lat1 = radians(lat1) \n",
    "    lat2 = radians(lat2) \n",
    "       \n",
    "    # Haversine formula  \n",
    "    dlon = lon2 - lon1  \n",
    "    dlat = lat2 - lat1 \n",
    "    a = sin(dlat / 2)**2 + cos(lat1) * cos(lat2) * sin(dlon / 2)**2\n",
    "  \n",
    "    c = 2 * asin(sqrt(a))  \n",
    "     \n",
    "    # Radius of earth in kilometers. Use 3956 for miles \n",
    "    r = 6371\n",
    "       \n",
    "    # calculate the result \n",
    "    return(c * r) \n",
    "\n",
    "train_data['distance'] = train_data.apply(lambda x: distance (x['Lat'],x['Lng']),axis=1)\n",
    "train_data['constructionTime'] = train_data['constructionTime'].astype(int)\n",
    "train_data['building_age'] = 2024 - train_data['constructionTime']\n",
    "\n",
    "test_data['distance'] = test_data.apply(lambda x: distance (x['Lat'],x['Lng']),axis=1)\n",
    "test_data['constructionTime'] = test_data['constructionTime'].astype(int)\n",
    "test_data['building_age'] = 2024 - test_data['constructionTime']\n",
    "# Converting 'buildingType' feature to object or string type\n",
    "train_data['buildingType'].replace(1,'Tower',inplace=True)\n",
    "train_data['buildingType'].replace(2,'Bungalow',inplace=True)\n",
    "train_data['buildingType'].replace(3,'Tower and Plate',inplace=True)\n",
    "train_data['buildingType'].replace(4,'Plate',inplace=True)\n",
    "\n",
    "test_data['buildingType'].replace(1,'Tower',inplace=True)\n",
    "test_data['buildingType'].replace(2,'Bungalow',inplace=True)\n",
    "test_data['buildingType'].replace(3,'Tower and Plate',inplace=True)\n",
    "test_data['buildingType'].replace(4,'Plate',inplace=True)\n",
    "\n"
   ]
  },
  {
   "cell_type": "code",
   "execution_count": 53,
   "metadata": {},
   "outputs": [
    {
     "data": {
      "text/plain": [
       "Index(['ID', 'Lng', 'Lat', 'tradeTime', 'followers', 'square', 'livingRoom',\n",
       "       'drawingRoom', 'kitchen', 'bathRoom', 'floor', 'buildingType',\n",
       "       'constructionTime', 'renovationCondition', 'buildingStructure',\n",
       "       'ladderRatio', 'elevator', 'fiveYearsProperty', 'subway', 'district',\n",
       "       'communityAverage', 'distance', 'Age'],\n",
       "      dtype='object')"
      ]
     },
     "execution_count": 53,
     "metadata": {},
     "output_type": "execute_result"
    }
   ],
   "source": [
    "train_data.columns"
   ]
  },
  {
   "cell_type": "code",
   "execution_count": 4,
   "metadata": {},
   "outputs": [
    {
     "data": {
      "text/plain": [
       "Lat                             False\n",
       "followers                       False\n",
       "square                          False\n",
       "kitchen                         False\n",
       "constructionTime                False\n",
       "                                ...  \n",
       "buildingType_Bungalow           False\n",
       "buildingType_Plate              False\n",
       "buildingType_Tower              False\n",
       "buildingType_Tower and Plate    False\n",
       "buildingType_nan                False\n",
       "Length: 134, dtype: bool"
      ]
     },
     "execution_count": 4,
     "metadata": {},
     "output_type": "execute_result"
    }
   ],
   "source": [
    "#lấy những columns cần thiết để training\n",
    "train = ['Lng','Lat','followers','square', 'livingRoom',\n",
    "       'drawingRoom', 'kitchen', 'bathRoom', 'floor', 'buildingType',\n",
    "       'constructionTime', 'renovationCondition', 'buildingStructure','ladderRatio', 'elevator', 'fiveYearsProperty', 'subway', 'district',\n",
    "       'communityAverage','distance','building_age']\n",
    "train_data = train_data[train]\n",
    "test_data = test_data[train]\n",
    "\n",
    "all_features = pd.concat((train_data.iloc[:, 1:-1], test_data.iloc[:, 1:]))\n",
    "\n",
    "#obtain all the numerical features\n",
    "numerical_features = all_features.dtypes[all_features.dtypes != 'object'].index\n",
    "#apply standardization to each feature\n",
    "all_features[numerical_features] = all_features[numerical_features].apply( lambda x: (x-x.mean()) / x.std() )\n",
    "#replace missing values with 0\n",
    "all_features[numerical_features] = all_features[numerical_features].fillna(0)\n",
    "#one-hot encoding consider missing values as a category.\n",
    "all_features = pd.get_dummies(all_features, dummy_na=True)\n",
    "all_features.shape\n",
    "\n",
    "pd.isna(all_features).any()"
   ]
  },
  {
   "cell_type": "code",
   "execution_count": 56,
   "metadata": {},
   "outputs": [],
   "source": [
    "#Tách dữ liệu thành tập huấn luyện và tập kiểm tra\n",
    "n_train = train_data.shape[0]\n",
    "train_features = all_features[:n_train]\n",
    "test_features = all_features[n_train:]\n",
    "train_labels = Y_train.values\n",
    "\n",
    "# Tách tập huấn luyện thành tập train và validation\n",
    "x_train, x_valid,y_train, y_valid = train_test_split(train_features, train_labels, test_size=0.250001, random_state = 27)\n"
   ]
  },
  {
   "cell_type": "code",
   "execution_count": 57,
   "metadata": {},
   "outputs": [],
   "source": [
    "rf = RandomForestRegressor(random_state=42,n_estimators=900,max_depth=20,\n",
    "                                              n_jobs=-1,min_samples_split=10,)"
   ]
  },
  {
   "cell_type": "code",
   "execution_count": 58,
   "metadata": {},
   "outputs": [],
   "source": [
    "# Fit Model\n",
    "\n",
    "rf.fit(x_train, y_train)\n",
    "\n",
    "# Make validation predictions\n",
    "\n",
    "y_pred = rf.predict(x_valid)"
   ]
  },
  {
   "cell_type": "code",
   "execution_count": 59,
   "metadata": {},
   "outputs": [
    {
     "name": "stdout",
     "output_type": "stream",
     "text": [
      "Predictions have been saved to 'predictions.csv'\n"
     ]
    }
   ],
   "source": [
    "\n",
    "# Step 1: Predict using RandomForest on test data\n",
    "rf_test_pred = rf.predict(test_features)\n",
    "rf_test_pred.shape\n",
    "target_predictions = rf_test_pred[:, 1]\n",
    "# Step 4: Create a DataFrame with ID and TARGET\n",
    "results_df = pd.DataFrame({\n",
    "    'ID': range(len(rf_test_pred)), \n",
    "    'TARGET': target_predictions\n",
    "})\n",
    "\n",
    "# Step 5: Export to CSV\n",
    "results_df.to_csv('predictions.csv', index=False)\n",
    "\n",
    "print(\"Predictions have been saved to 'predictions.csv'\")"
   ]
  }
 ],
 "metadata": {
  "kernelspec": {
   "display_name": "ai_class",
   "language": "python",
   "name": "python3"
  },
  "language_info": {
   "codemirror_mode": {
    "name": "ipython",
    "version": 3
   },
   "file_extension": ".py",
   "mimetype": "text/x-python",
   "name": "python",
   "nbconvert_exporter": "python",
   "pygments_lexer": "ipython3",
   "version": "3.9.18"
  }
 },
 "nbformat": 4,
 "nbformat_minor": 2
}
