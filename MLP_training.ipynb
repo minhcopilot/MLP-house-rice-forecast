{
 "cells": [
  {
   "cell_type": "code",
   "execution_count": 2,
   "metadata": {},
   "outputs": [],
   "source": [
    "# Import libraries\n",
    "import pandas as pd\n",
    "import numpy as np\n",
    "import tensorflow as tf\n",
    "from tensorflow.keras import layers, models, callbacks\n",
    "from sklearn.model_selection import train_test_split\n",
    "from sklearn.preprocessing import StandardScaler, LabelEncoder\n",
    "from sklearn.metrics import mean_squared_error\n",
    "import matplotlib.pyplot as plt\n",
    "import seaborn as sns\n",
    "import re\n"
   ]
  },
  {
   "cell_type": "code",
   "execution_count": 3,
   "metadata": {},
   "outputs": [
    {
     "name": "stderr",
     "output_type": "stream",
     "text": [
      "C:\\Users\\ADMIN\\AppData\\Local\\Temp\\ipykernel_4864\\2945874689.py:2: DtypeWarning: Columns (9) have mixed types. Specify dtype option on import or set low_memory=False.\n",
      "  train_data = pd.read_csv('data/X_train.csv')\n"
     ]
    }
   ],
   "source": [
    "# Load the data\n",
    "train_data = pd.read_csv('data/X_train.csv')\n",
    "Y_train = pd.read_csv('data/Y_train.csv')\n",
    "test_data = pd.read_csv('data/X_test.csv')"
   ]
  },
  {
   "cell_type": "code",
   "execution_count": 4,
   "metadata": {},
   "outputs": [],
   "source": [
    "all_features = pd.concat((train_data.iloc[:, 1:-1], test_data.iloc[:, 1:]))"
   ]
  },
  {
   "cell_type": "code",
   "execution_count": 5,
   "metadata": {},
   "outputs": [],
   "source": [
    "#obtain all the numerical features\n",
    "numerical_features = all_features.dtypes[all_features.dtypes != 'object'].index\n",
    "#apply standardization to each feature\n",
    "all_features[numerical_features] = all_features[numerical_features].apply( lambda x: (x-x.mean()) / x.std() )\n",
    "#replace missing values with 0\n",
    "all_features[numerical_features] = all_features[numerical_features].fillna(0)"
   ]
  },
  {
   "cell_type": "code",
   "execution_count": 6,
   "metadata": {},
   "outputs": [
    {
     "data": {
      "text/plain": [
       "(318851, 2918)"
      ]
     },
     "execution_count": 26,
     "metadata": {},
     "output_type": "execute_result"
    }
   ],
   "source": [
    "#one-hot encoding consider missing values as a category.\n",
    "all_features = pd.get_dummies(all_features, dummy_na=True)\n",
    "all_features.shape"
   ]
  },
  {
   "cell_type": "code",
   "execution_count": 65,
   "metadata": {},
   "outputs": [],
   "source": [
    "# Tách dữ liệu thành tập huấn luyện và tập kiểm tra\n",
    "n_train = train_data.shape[0]\n",
    "train_features = all_features[:n_train]\n",
    "test_features = all_features[n_train:]\n",
    "train_labels = Y_train.values\n",
    "\n",
    "# Tách tập huấn luyện thành tập train và validation\n",
    "X_train, X_val, y_train, y_val = train_test_split(train_features, train_labels, test_size=0.2, random_state=42)\n",
    "\n"
   ]
  },
  {
   "cell_type": "code",
   "execution_count": 66,
   "metadata": {},
   "outputs": [
    {
     "name": "stderr",
     "output_type": "stream",
     "text": [
      "d:\\App\\anacoda\\envs\\ai_class\\lib\\site-packages\\keras\\src\\layers\\core\\dense.py:87: UserWarning: Do not pass an `input_shape`/`input_dim` argument to a layer. When using Sequential models, prefer using an `Input(shape)` object as the first layer in the model instead.\n",
      "  super().__init__(activity_regularizer=activity_regularizer, **kwargs)\n"
     ]
    }
   ],
   "source": [
    "\n",
    "# Xây dựng mô hình MLP\n",
    "model = models.Sequential([\n",
    "    layers.Dense(128, activation='relu', input_shape=(train_features.shape[1],)),\n",
    "    layers.BatchNormalization(),\n",
    "    layers.Dropout(0.3),\n",
    "    layers.Dense(64, activation='relu'),\n",
    "    layers.BatchNormalization(),\n",
    "    layers.Dropout(0.3),\n",
    "    layers.Dense(32, activation='relu'),\n",
    "    layers.BatchNormalization(),\n",
    "    layers.Dropout(0.3),\n",
    "    layers.Dense(1)  # Output layer\n",
    "])\n"
   ]
  },
  {
   "cell_type": "code",
   "execution_count": 67,
   "metadata": {},
   "outputs": [],
   "source": [
    "# Biên dịch mô hình\n",
    "model.compile(optimizer='adam', loss='mean_squared_error', metrics=['mae'])\n",
    "\n",
    "# Định nghĩa early stopping\n",
    "early_stopping = callbacks.EarlyStopping(\n",
    "    monitor='val_loss',\n",
    "    patience=10,\n",
    "    restore_best_weights=True\n",
    ")\n",
    "\n"
   ]
  },
  {
   "cell_type": "code",
   "execution_count": 68,
   "metadata": {},
   "outputs": [
    {
     "name": "stdout",
     "output_type": "stream",
     "text": [
      "Epoch 1/200\n",
      "\u001b[1m3189/3189\u001b[0m \u001b[32m━━━━━━━━━━━━━━━━━━━━\u001b[0m\u001b[37m\u001b[0m \u001b[1m50s\u001b[0m 14ms/step - loss: 16890430464.0000 - mae: 79751.7734 - val_loss: 16787170304.0000 - val_mae: 79894.5625 - learning_rate: 0.0010\n",
      "Epoch 2/200\n",
      "\u001b[1m3189/3189\u001b[0m \u001b[32m━━━━━━━━━━━━━━━━━━━━\u001b[0m\u001b[37m\u001b[0m \u001b[1m40s\u001b[0m 13ms/step - loss: 16689675264.0000 - mae: 79832.8359 - val_loss: 16392907776.0000 - val_mae: 80008.9844 - learning_rate: 0.0010\n",
      "Epoch 3/200\n",
      "\u001b[1m3189/3189\u001b[0m \u001b[32m━━━━━━━━━━━━━━━━━━━━\u001b[0m\u001b[37m\u001b[0m \u001b[1m39s\u001b[0m 12ms/step - loss: 16276932608.0000 - mae: 80048.7578 - val_loss: 15842813952.0000 - val_mae: 80235.7500 - learning_rate: 0.0010\n",
      "Epoch 4/200\n",
      "\u001b[1m3189/3189\u001b[0m \u001b[32m━━━━━━━━━━━━━━━━━━━━\u001b[0m\u001b[37m\u001b[0m \u001b[1m38s\u001b[0m 12ms/step - loss: 15718301696.0000 - mae: 80266.6953 - val_loss: 15193843712.0000 - val_mae: 80482.0156 - learning_rate: 0.0010\n",
      "Epoch 5/200\n",
      "\u001b[1m3189/3189\u001b[0m \u001b[32m━━━━━━━━━━━━━━━━━━━━\u001b[0m\u001b[37m\u001b[0m \u001b[1m38s\u001b[0m 12ms/step - loss: 14981817344.0000 - mae: 80461.1562 - val_loss: 14404496384.0000 - val_mae: 80704.4688 - learning_rate: 0.0010\n",
      "Epoch 6/200\n",
      "\u001b[1m3189/3189\u001b[0m \u001b[32m━━━━━━━━━━━━━━━━━━━━\u001b[0m\u001b[37m\u001b[0m \u001b[1m36s\u001b[0m 11ms/step - loss: 14234389504.0000 - mae: 80840.5703 - val_loss: 13527982080.0000 - val_mae: 80981.5469 - learning_rate: 0.0010\n",
      "Epoch 7/200\n",
      "\u001b[1m3189/3189\u001b[0m \u001b[32m━━━━━━━━━━━━━━━━━━━━\u001b[0m\u001b[37m\u001b[0m \u001b[1m31s\u001b[0m 10ms/step - loss: 13381452800.0000 - mae: 81203.5078 - val_loss: 12720072704.0000 - val_mae: 81463.5859 - learning_rate: 0.0010\n",
      "Epoch 8/200\n",
      "\u001b[1m3189/3189\u001b[0m \u001b[32m━━━━━━━━━━━━━━━━━━━━\u001b[0m\u001b[37m\u001b[0m \u001b[1m30s\u001b[0m 10ms/step - loss: 12525988864.0000 - mae: 81602.3125 - val_loss: 11836386304.0000 - val_mae: 81815.3672 - learning_rate: 0.0010\n",
      "Epoch 9/200\n",
      "\u001b[1m3189/3189\u001b[0m \u001b[32m━━━━━━━━━━━━━━━━━━━━\u001b[0m\u001b[37m\u001b[0m \u001b[1m31s\u001b[0m 10ms/step - loss: 11647749120.0000 - mae: 81866.8047 - val_loss: 11050611712.0000 - val_mae: 82133.5781 - learning_rate: 0.0010\n",
      "Epoch 10/200\n",
      "\u001b[1m3189/3189\u001b[0m \u001b[32m━━━━━━━━━━━━━━━━━━━━\u001b[0m\u001b[37m\u001b[0m \u001b[1m33s\u001b[0m 10ms/step - loss: 10871029760.0000 - mae: 82305.5078 - val_loss: 10337804288.0000 - val_mae: 82642.0234 - learning_rate: 0.0010\n",
      "Epoch 11/200\n",
      "\u001b[1m3189/3189\u001b[0m \u001b[32m━━━━━━━━━━━━━━━━━━━━\u001b[0m\u001b[37m\u001b[0m \u001b[1m34s\u001b[0m 11ms/step - loss: 10206391296.0000 - mae: 82698.2734 - val_loss: 9678612480.0000 - val_mae: 82789.8516 - learning_rate: 0.0010\n",
      "Epoch 12/200\n",
      "\u001b[1m3189/3189\u001b[0m \u001b[32m━━━━━━━━━━━━━━━━━━━━\u001b[0m\u001b[37m\u001b[0m \u001b[1m33s\u001b[0m 10ms/step - loss: 9656007680.0000 - mae: 82684.0938 - val_loss: 9247344640.0000 - val_mae: 81813.7500 - learning_rate: 0.0010\n",
      "Epoch 13/200\n",
      "\u001b[1m3189/3189\u001b[0m \u001b[32m━━━━━━━━━━━━━━━━━━━━\u001b[0m\u001b[37m\u001b[0m \u001b[1m34s\u001b[0m 11ms/step - loss: 9186406400.0000 - mae: 81406.4922 - val_loss: 8855671808.0000 - val_mae: 80663.9531 - learning_rate: 0.0010\n",
      "Epoch 14/200\n",
      "\u001b[1m3189/3189\u001b[0m \u001b[32m━━━━━━━━━━━━━━━━━━━━\u001b[0m\u001b[37m\u001b[0m \u001b[1m34s\u001b[0m 11ms/step - loss: 8828180480.0000 - mae: 80272.5234 - val_loss: 8623405056.0000 - val_mae: 80021.2734 - learning_rate: 0.0010\n",
      "Epoch 15/200\n",
      "\u001b[1m3189/3189\u001b[0m \u001b[32m━━━━━━━━━━━━━━━━━━━━\u001b[0m\u001b[37m\u001b[0m \u001b[1m33s\u001b[0m 10ms/step - loss: 8648217600.0000 - mae: 79816.1719 - val_loss: 8497033216.0000 - val_mae: 79698.3203 - learning_rate: 0.0010\n",
      "Epoch 16/200\n",
      "\u001b[1m3189/3189\u001b[0m \u001b[32m━━━━━━━━━━━━━━━━━━━━\u001b[0m\u001b[37m\u001b[0m \u001b[1m38s\u001b[0m 12ms/step - loss: 8583033344.0000 - mae: 79890.4688 - val_loss: 8474804224.0000 - val_mae: 79764.8750 - learning_rate: 0.0010\n",
      "Epoch 17/200\n",
      "\u001b[1m3189/3189\u001b[0m \u001b[32m━━━━━━━━━━━━━━━━━━━━\u001b[0m\u001b[37m\u001b[0m \u001b[1m43s\u001b[0m 14ms/step - loss: 8540002816.0000 - mae: 79796.1016 - val_loss: 8476400128.0000 - val_mae: 79821.3594 - learning_rate: 0.0010\n",
      "Epoch 18/200\n",
      "\u001b[1m3189/3189\u001b[0m \u001b[32m━━━━━━━━━━━━━━━━━━━━\u001b[0m\u001b[37m\u001b[0m \u001b[1m35s\u001b[0m 11ms/step - loss: 8558153728.0000 - mae: 79943.6953 - val_loss: 8474152448.0000 - val_mae: 79806.0156 - learning_rate: 0.0010\n",
      "Epoch 19/200\n",
      "\u001b[1m3189/3189\u001b[0m \u001b[32m━━━━━━━━━━━━━━━━━━━━\u001b[0m\u001b[37m\u001b[0m \u001b[1m35s\u001b[0m 11ms/step - loss: 8524774912.0000 - mae: 79666.2812 - val_loss: 8473014784.0000 - val_mae: 79776.4062 - learning_rate: 0.0010\n",
      "Epoch 20/200\n",
      "\u001b[1m3189/3189\u001b[0m \u001b[32m━━━━━━━━━━━━━━━━━━━━\u001b[0m\u001b[37m\u001b[0m \u001b[1m33s\u001b[0m 10ms/step - loss: 8533857792.0000 - mae: 79716.7969 - val_loss: 8472425472.0000 - val_mae: 79751.6250 - learning_rate: 0.0010\n",
      "Epoch 21/200\n",
      "\u001b[1m3189/3189\u001b[0m \u001b[32m━━━━━━━━━━━━━━━━━━━━\u001b[0m\u001b[37m\u001b[0m \u001b[1m33s\u001b[0m 10ms/step - loss: 8513266176.0000 - mae: 79629.0391 - val_loss: 8475444224.0000 - val_mae: 79789.8125 - learning_rate: 0.0010\n",
      "Epoch 22/200\n",
      "\u001b[1m3189/3189\u001b[0m \u001b[32m━━━━━━━━━━━━━━━━━━━━\u001b[0m\u001b[37m\u001b[0m \u001b[1m42s\u001b[0m 13ms/step - loss: 8540823040.0000 - mae: 79760.5625 - val_loss: 8472713728.0000 - val_mae: 79764.9219 - learning_rate: 0.0010\n",
      "Epoch 23/200\n",
      "\u001b[1m3189/3189\u001b[0m \u001b[32m━━━━━━━━━━━━━━━━━━━━\u001b[0m\u001b[37m\u001b[0m \u001b[1m42s\u001b[0m 13ms/step - loss: 8548964352.0000 - mae: 79812.2969 - val_loss: 8471608832.0000 - val_mae: 79771.6016 - learning_rate: 0.0010\n",
      "Epoch 24/200\n",
      "\u001b[1m3189/3189\u001b[0m \u001b[32m━━━━━━━━━━━━━━━━━━━━\u001b[0m\u001b[37m\u001b[0m \u001b[1m42s\u001b[0m 13ms/step - loss: 8526654976.0000 - mae: 79729.8984 - val_loss: 8471807488.0000 - val_mae: 79751.3203 - learning_rate: 0.0010\n",
      "Epoch 25/200\n",
      "\u001b[1m3189/3189\u001b[0m \u001b[32m━━━━━━━━━━━━━━━━━━━━\u001b[0m\u001b[37m\u001b[0m \u001b[1m42s\u001b[0m 13ms/step - loss: 8537956352.0000 - mae: 79827.0156 - val_loss: 8472387072.0000 - val_mae: 79826.6094 - learning_rate: 0.0010\n",
      "Epoch 26/200\n",
      "\u001b[1m3189/3189\u001b[0m \u001b[32m━━━━━━━━━━━━━━━━━━━━\u001b[0m\u001b[37m\u001b[0m \u001b[1m38s\u001b[0m 12ms/step - loss: 8538119168.0000 - mae: 79749.8438 - val_loss: 8471770112.0000 - val_mae: 79753.2109 - learning_rate: 0.0010\n",
      "Epoch 27/200\n",
      "\u001b[1m3189/3189\u001b[0m \u001b[32m━━━━━━━━━━━━━━━━━━━━\u001b[0m\u001b[37m\u001b[0m \u001b[1m35s\u001b[0m 11ms/step - loss: 8536583680.0000 - mae: 79801.9375 - val_loss: 8471648768.0000 - val_mae: 79729.0703 - learning_rate: 0.0010\n",
      "Epoch 28/200\n",
      "\u001b[1m3189/3189\u001b[0m \u001b[32m━━━━━━━━━━━━━━━━━━━━\u001b[0m\u001b[37m\u001b[0m \u001b[1m34s\u001b[0m 11ms/step - loss: 8536046080.0000 - mae: 79747.5391 - val_loss: 8471616512.0000 - val_mae: 79753.9531 - learning_rate: 0.0010\n",
      "Epoch 29/200\n",
      "\u001b[1m3189/3189\u001b[0m \u001b[32m━━━━━━━━━━━━━━━━━━━━\u001b[0m\u001b[37m\u001b[0m \u001b[1m35s\u001b[0m 11ms/step - loss: 8540770816.0000 - mae: 79806.4375 - val_loss: 8470735360.0000 - val_mae: 79794.4844 - learning_rate: 2.0000e-04\n",
      "Epoch 30/200\n",
      "\u001b[1m3189/3189\u001b[0m \u001b[32m━━━━━━━━━━━━━━━━━━━━\u001b[0m\u001b[37m\u001b[0m \u001b[1m41s\u001b[0m 13ms/step - loss: 8546477056.0000 - mae: 79820.0703 - val_loss: 8470412288.0000 - val_mae: 79770.7812 - learning_rate: 2.0000e-04\n",
      "Epoch 31/200\n",
      "\u001b[1m3189/3189\u001b[0m \u001b[32m━━━━━━━━━━━━━━━━━━━━\u001b[0m\u001b[37m\u001b[0m \u001b[1m41s\u001b[0m 13ms/step - loss: 8516499968.0000 - mae: 79657.1484 - val_loss: 8470808576.0000 - val_mae: 79787.2500 - learning_rate: 2.0000e-04\n",
      "Epoch 32/200\n",
      "\u001b[1m3189/3189\u001b[0m \u001b[32m━━━━━━━━━━━━━━━━━━━━\u001b[0m\u001b[37m\u001b[0m \u001b[1m39s\u001b[0m 12ms/step - loss: 8540589056.0000 - mae: 79768.6641 - val_loss: 8470724096.0000 - val_mae: 79785.0391 - learning_rate: 2.0000e-04\n",
      "Epoch 33/200\n",
      "\u001b[1m3189/3189\u001b[0m \u001b[32m━━━━━━━━━━━━━━━━━━━━\u001b[0m\u001b[37m\u001b[0m \u001b[1m39s\u001b[0m 12ms/step - loss: 8503182848.0000 - mae: 79603.3047 - val_loss: 8471133184.0000 - val_mae: 79764.8438 - learning_rate: 2.0000e-04\n",
      "Epoch 34/200\n",
      "\u001b[1m3189/3189\u001b[0m \u001b[32m━━━━━━━━━━━━━━━━━━━━\u001b[0m\u001b[37m\u001b[0m \u001b[1m41s\u001b[0m 13ms/step - loss: 8510020608.0000 - mae: 79626.1484 - val_loss: 8470083072.0000 - val_mae: 79770.9297 - learning_rate: 2.0000e-04\n",
      "Epoch 35/200\n",
      "\u001b[1m3189/3189\u001b[0m \u001b[32m━━━━━━━━━━━━━━━━━━━━\u001b[0m\u001b[37m\u001b[0m \u001b[1m40s\u001b[0m 12ms/step - loss: 8537907200.0000 - mae: 79779.9062 - val_loss: 8470351360.0000 - val_mae: 79792.7969 - learning_rate: 2.0000e-04\n",
      "Epoch 36/200\n",
      "\u001b[1m3189/3189\u001b[0m \u001b[32m━━━━━━━━━━━━━━━━━━━━\u001b[0m\u001b[37m\u001b[0m \u001b[1m41s\u001b[0m 13ms/step - loss: 8567463424.0000 - mae: 79932.2969 - val_loss: 8470791168.0000 - val_mae: 79775.3203 - learning_rate: 2.0000e-04\n",
      "Epoch 37/200\n",
      "\u001b[1m3189/3189\u001b[0m \u001b[32m━━━━━━━━━━━━━━━━━━━━\u001b[0m\u001b[37m\u001b[0m \u001b[1m41s\u001b[0m 13ms/step - loss: 8540633600.0000 - mae: 79771.4688 - val_loss: 8470626304.0000 - val_mae: 79792.5469 - learning_rate: 2.0000e-04\n",
      "Epoch 38/200\n",
      "\u001b[1m3189/3189\u001b[0m \u001b[32m━━━━━━━━━━━━━━━━━━━━\u001b[0m\u001b[37m\u001b[0m \u001b[1m40s\u001b[0m 13ms/step - loss: 8539960320.0000 - mae: 79776.1562 - val_loss: 8471182336.0000 - val_mae: 79763.6250 - learning_rate: 2.0000e-04\n",
      "Epoch 39/200\n",
      "\u001b[1m3189/3189\u001b[0m \u001b[32m━━━━━━━━━━━━━━━━━━━━\u001b[0m\u001b[37m\u001b[0m \u001b[1m41s\u001b[0m 13ms/step - loss: 8529897472.0000 - mae: 79726.8594 - val_loss: 8470851072.0000 - val_mae: 79758.0938 - learning_rate: 2.0000e-04\n",
      "Epoch 40/200\n",
      "\u001b[1m3189/3189\u001b[0m \u001b[32m━━━━━━━━━━━━━━━━━━━━\u001b[0m\u001b[37m\u001b[0m \u001b[1m36s\u001b[0m 11ms/step - loss: 8527548928.0000 - mae: 79724.1953 - val_loss: 8470042624.0000 - val_mae: 79768.4609 - learning_rate: 4.0000e-05\n",
      "Epoch 41/200\n",
      "\u001b[1m3189/3189\u001b[0m \u001b[32m━━━━━━━━━━━━━━━━━━━━\u001b[0m\u001b[37m\u001b[0m \u001b[1m34s\u001b[0m 11ms/step - loss: 8539495936.0000 - mae: 79822.4688 - val_loss: 8470478848.0000 - val_mae: 79771.1797 - learning_rate: 4.0000e-05\n",
      "Epoch 42/200\n",
      "\u001b[1m3189/3189\u001b[0m \u001b[32m━━━━━━━━━━━━━━━━━━━━\u001b[0m\u001b[37m\u001b[0m \u001b[1m35s\u001b[0m 11ms/step - loss: 8515671552.0000 - mae: 79663.7656 - val_loss: 8470340608.0000 - val_mae: 79796.2578 - learning_rate: 4.0000e-05\n",
      "Epoch 43/200\n",
      "\u001b[1m3189/3189\u001b[0m \u001b[32m━━━━━━━━━━━━━━━━━━━━\u001b[0m\u001b[37m\u001b[0m \u001b[1m34s\u001b[0m 11ms/step - loss: 8537092096.0000 - mae: 79759.0391 - val_loss: 8470930432.0000 - val_mae: 79780.7031 - learning_rate: 4.0000e-05\n",
      "Epoch 44/200\n",
      "\u001b[1m3189/3189\u001b[0m \u001b[32m━━━━━━━━━━━━━━━━━━━━\u001b[0m\u001b[37m\u001b[0m \u001b[1m35s\u001b[0m 11ms/step - loss: 8548868096.0000 - mae: 79877.5625 - val_loss: 8470228992.0000 - val_mae: 79769.1016 - learning_rate: 4.0000e-05\n",
      "Epoch 45/200\n",
      "\u001b[1m3189/3189\u001b[0m \u001b[32m━━━━━━━━━━━━━━━━━━━━\u001b[0m\u001b[37m\u001b[0m \u001b[1m35s\u001b[0m 11ms/step - loss: 8527050240.0000 - mae: 79726.3125 - val_loss: 8472179712.0000 - val_mae: 79776.7969 - learning_rate: 4.0000e-05\n",
      "Epoch 46/200\n",
      "\u001b[1m3189/3189\u001b[0m \u001b[32m━━━━━━━━━━━━━━━━━━━━\u001b[0m\u001b[37m\u001b[0m \u001b[1m35s\u001b[0m 11ms/step - loss: 8524161024.0000 - mae: 79727.6250 - val_loss: 8470144000.0000 - val_mae: 79782.9141 - learning_rate: 8.0000e-06\n",
      "Epoch 47/200\n",
      "\u001b[1m3189/3189\u001b[0m \u001b[32m━━━━━━━━━━━━━━━━━━━━\u001b[0m\u001b[37m\u001b[0m \u001b[1m36s\u001b[0m 11ms/step - loss: 8565377024.0000 - mae: 79943.7188 - val_loss: 8470827520.0000 - val_mae: 79798.1875 - learning_rate: 8.0000e-06\n",
      "Epoch 48/200\n",
      "\u001b[1m3189/3189\u001b[0m \u001b[32m━━━━━━━━━━━━━━━━━━━━\u001b[0m\u001b[37m\u001b[0m \u001b[1m37s\u001b[0m 12ms/step - loss: 8545287168.0000 - mae: 79805.3672 - val_loss: 8470663680.0000 - val_mae: 79767.0156 - learning_rate: 8.0000e-06\n",
      "Epoch 49/200\n",
      "\u001b[1m3189/3189\u001b[0m \u001b[32m━━━━━━━━━━━━━━━━━━━━\u001b[0m\u001b[37m\u001b[0m \u001b[1m36s\u001b[0m 11ms/step - loss: 8494220800.0000 - mae: 79525.5000 - val_loss: 8470219776.0000 - val_mae: 79772.6641 - learning_rate: 8.0000e-06\n",
      "Epoch 50/200\n",
      "\u001b[1m3189/3189\u001b[0m \u001b[32m━━━━━━━━━━━━━━━━━━━━\u001b[0m\u001b[37m\u001b[0m \u001b[1m36s\u001b[0m 11ms/step - loss: 8513316352.0000 - mae: 79631.7969 - val_loss: 8472976896.0000 - val_mae: 79790.7500 - learning_rate: 8.0000e-06\n",
      "Epoch 51/200\n",
      "\u001b[1m3189/3189\u001b[0m \u001b[32m━━━━━━━━━━━━━━━━━━━━\u001b[0m\u001b[37m\u001b[0m \u001b[1m38s\u001b[0m 12ms/step - loss: 8542648832.0000 - mae: 79797.2734 - val_loss: 8474893312.0000 - val_mae: 79815.1641 - learning_rate: 1.6000e-06\n",
      "Epoch 52/200\n",
      "\u001b[1m3189/3189\u001b[0m \u001b[32m━━━━━━━━━━━━━━━━━━━━\u001b[0m\u001b[37m\u001b[0m \u001b[1m42s\u001b[0m 13ms/step - loss: 8571635712.0000 - mae: 79958.0547 - val_loss: 8470078464.0000 - val_mae: 79780.0156 - learning_rate: 1.6000e-06\n",
      "Epoch 53/200\n",
      "\u001b[1m3189/3189\u001b[0m \u001b[32m━━━━━━━━━━━━━━━━━━━━\u001b[0m\u001b[37m\u001b[0m \u001b[1m43s\u001b[0m 13ms/step - loss: 8523021312.0000 - mae: 79656.8125 - val_loss: 8470375424.0000 - val_mae: 79794.8203 - learning_rate: 1.6000e-06\n",
      "Epoch 54/200\n",
      "\u001b[1m3189/3189\u001b[0m \u001b[32m━━━━━━━━━━━━━━━━━━━━\u001b[0m\u001b[37m\u001b[0m \u001b[1m48s\u001b[0m 15ms/step - loss: 8536743936.0000 - mae: 79754.8125 - val_loss: 8470139904.0000 - val_mae: 79783.3281 - learning_rate: 1.6000e-06\n",
      "Epoch 55/200\n",
      "\u001b[1m3189/3189\u001b[0m \u001b[32m━━━━━━━━━━━━━━━━━━━━\u001b[0m\u001b[37m\u001b[0m \u001b[1m77s\u001b[0m 13ms/step - loss: 8528633344.0000 - mae: 79739.8438 - val_loss: 8478185984.0000 - val_mae: 79823.9844 - learning_rate: 1.6000e-06\n"
     ]
    }
   ],
   "source": [
    "# Huấn luyện mô hình\n",
    "history = model.fit(\n",
    "    X_train, y_train,\n",
    "    epochs=100,\n",
    "    batch_size=32,\n",
    "    validation_data=(X_val, y_val),\n",
    "    callbacks=[early_stopping],\n",
    "    verbose=1\n",
    ")\n",
    "\n"
   ]
  },
  {
   "cell_type": "code",
   "execution_count": 69,
   "metadata": {},
   "outputs": [
    {
     "name": "stdout",
     "output_type": "stream",
     "text": [
      "Validation Loss: 8470050816.0000\n",
      "Validation MAE: 79768.4375\n"
     ]
    }
   ],
   "source": [
    "# Đánh giá mô hình trên tập validation\n",
    "val_loss, val_mae = model.evaluate(X_val, y_val, verbose=0)\n",
    "print(f\"Validation Loss: {val_loss:.4f}\")\n",
    "print(f\"Validation MAE: {val_mae:.4f}\")\n",
    "\n"
   ]
  },
  {
   "cell_type": "code",
   "execution_count": 1,
   "metadata": {},
   "outputs": [
    {
     "name": "stdout",
     "output_type": "stream",
     "text": [
      "\u001b[1m1993/1993\u001b[0m \u001b[32m━━━━━━━━━━━━━━━━━━━━\u001b[0m\u001b[37m\u001b[0m \u001b[1m4s\u001b[0m 2ms/step\n"
     ]
    }
   ],
   "source": [
    "# Cell 6: Dự đoán và tạo file submission\n",
    "test_predictions = model.predict(test_features)\n",
    "\n",
    "# Tạo DataFrame submission với index làm Id\n",
    "submission = pd.DataFrame({'TARGET': test_predictions.flatten()})\n",
    "submission.index.name = 'ID'\n",
    "submission.index += 1  \n",
    "submission.to_csv('submission.csv')\n"
   ]
  },
  {
   "cell_type": "code",
   "execution_count": 73,
   "metadata": {},
   "outputs": [
    {
     "data": {
      "image/png": "[encoded data removed]",
      "text/plain": [
       "<Figure size 1000x600 with 1 Axes>"
      ]
     },
     "metadata": {},
     "output_type": "display_data"
    }
   ],
   "source": [
    "# Vẽ đồ thị loss\n",
    "plt.figure(figsize=(10, 6))\n",
    "plt.plot(history.history['loss'], label='Training Loss')\n",
    "plt.plot(history.history['val_loss'], label='Validation Loss')\n",
    "plt.title('Model Loss')\n",
    "plt.xlabel('Epoch')\n",
    "plt.ylabel('Loss')\n",
    "plt.legend()\n",
    "plt.show()"
   ]
  }
 ],
 "metadata": {
  "kernelspec": {
   "display_name": "Python 3",
   "language": "python",
   "name": "python3"
  },
  "language_info": {
   "codemirror_mode": {
    "name": "ipython",
    "version": 3
   },
   "file_extension": ".py",
   "mimetype": "text/x-python",
   "name": "python",
   "nbconvert_exporter": "python",
   "pygments_lexer": "ipython3",
   "version": "3.9.18"
  }
 },
 "nbformat": 4,
 "nbformat_minor": 2
}
